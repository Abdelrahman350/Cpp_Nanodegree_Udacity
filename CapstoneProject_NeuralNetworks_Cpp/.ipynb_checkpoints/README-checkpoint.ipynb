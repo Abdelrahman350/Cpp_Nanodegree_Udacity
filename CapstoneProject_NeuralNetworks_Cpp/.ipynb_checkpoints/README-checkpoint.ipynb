{
 "cells": [
  {
   "cell_type": "markdown",
   "metadata": {},
   "source": [
    "# Fully Connected Neural Network\\\n",
    "\n",
    "This project is a simple implementation for a fully connected neural network using C++ for Udacity C++ NanoDegree Capstone Project. The chosen problem to apply this neural network was a simple autoencoder. Autoencoders are a specific type of feedforward neural networks where the input is the same as the output."
   ]
  },
  {
   "cell_type": "markdown",
   "metadata": {},
   "source": [
    "# How to Run:\n",
    "* `cd build && cmake ..`\n",
    "* `make`\n",
    "* `./NeuralNetwork`"
   ]
  },
  {
   "cell_type": "markdown",
   "metadata": {},
   "source": [
    "# Project Structure:\n",
    "1. main.cpp \n",
    "    * Program Main.\n",
    "2. Neuron.cpp / Neuron.hpp\n",
    "    * This Class is responsible for the implementation of the neurons of the neural network.\n",
    "3. Matrix.cpp / Matrix.hpp\n",
    "    * This class is responsible for the implementation of the matrix data structure and its transpose operation.\n",
    "4. Math.cpp / Math.hpp\n",
    "    * This class is responsible for the implementation of the static matrix multiblication operation. \n",
    "5. Layer.cpp / Layer.hpp\n",
    "    * This class is responsible for the implementation of the layer and its associated operations.\n",
    "6. NeuralNetwork.cpp / NeuralNetwork.hpp\n",
    "    * This class is responsible for the implementation of the Neural Network data structure and basic operations   like set input layer, feed forward and back propagation."
   ]
  }
 ],
 "metadata": {
  "kernelspec": {
   "display_name": "Python 3",
   "language": "python",
   "name": "python3"
  },
  "language_info": {
   "codemirror_mode": {
    "name": "ipython",
    "version": 3
   },
   "file_extension": ".py",
   "mimetype": "text/x-python",
   "name": "python",
   "nbconvert_exporter": "python",
   "pygments_lexer": "ipython3",
   "version": "3.7.6"
  }
 },
 "nbformat": 4,
 "nbformat_minor": 4
}
